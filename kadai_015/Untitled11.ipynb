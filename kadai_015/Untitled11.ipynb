{
  "nbformat": 4,
  "nbformat_minor": 0,
  "metadata": {
    "colab": {
      "provenance": []
    },
    "kernelspec": {
      "name": "python3",
      "display_name": "Python 3"
    },
    "language_info": {
      "name": "python"
    }
  },
  "cells": [
    {
      "cell_type": "code",
      "execution_count": 6,
      "metadata": {
        "colab": {
          "base_uri": "https://localhost:8080/"
        },
        "id": "d5fi6S8ROdx3",
        "outputId": "5fcc9b50-2f41-4fa8-8365-e14ba6c978af"
      },
      "outputs": [
        {
          "output_type": "stream",
          "name": "stdout",
          "text": [
            "太郎\n",
            "5\n"
          ]
        }
      ],
      "source": [
        "##-----------------------------------\n",
        "##＜問題＞\n",
        "#名前(name)と年齢(age)の属性を持つHumanクラスを作成してください。\n",
        "#nameとageを標準出力(print)するメソッド(printinfo)を追加してください。\n",
        "\n",
        "#Humanクラスのインスタンスは、変数に代入してプログラム内で使用してください。\n",
        "##-----------------------------------\n",
        "\n",
        "class Human:\n",
        "\n",
        "    #名前(name)と年齢(age)の属性を定義\n",
        "    def __init__(self, name, age):\n",
        "        self.name = name\n",
        "        self.age = age\n",
        "\n",
        "    #メソッドを定義　nameとageを標準出力(print)\n",
        "    def printinfo(self):\n",
        "        print(self.name)\n",
        "        print(self.age)\n",
        "\n",
        "# インスタンス化する\n",
        "taro = Human(\"太郎\", 5)\n",
        "\n",
        "taro.printinfo()\n",
        "\n",
        "\n",
        "\n",
        "\n"
      ]
    }
  ]
}
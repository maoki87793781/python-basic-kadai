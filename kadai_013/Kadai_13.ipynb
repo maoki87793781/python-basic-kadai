{
  "nbformat": 4,
  "nbformat_minor": 0,
  "metadata": {
    "colab": {
      "provenance": []
    },
    "kernelspec": {
      "name": "python3",
      "display_name": "Python 3"
    },
    "language_info": {
      "name": "python"
    }
  },
  "cells": [
    {
      "cell_type": "code",
      "execution_count": 9,
      "metadata": {
        "colab": {
          "base_uri": "https://localhost:8080/",
          "height": 35
        },
        "id": "TMN8BHol0O6c",
        "outputId": "8eec72e6-e1a2-4f21-8f88-c3e0da859075"
      },
      "outputs": [
        {
          "output_type": "execute_result",
          "data": {
            "text/plain": [
              "'消費税込みの価格は 1100.0 円です'"
            ],
            "application/vnd.google.colaboratory.intrinsic+json": {
              "type": "string"
            }
          },
          "metadata": {},
          "execution_count": 9
        }
      ],
      "source": [
        "##消費税を加えた計算結果を返す関数を記述する\n",
        "##「結果を返す関数」なので戻り値を使用する\n",
        "##第1引数に商品の金額、第2引数に消費税（10%）を設定する\n",
        "\n",
        "price = 1000 #商品の金額\n",
        "tax_rate = 0.1 #消費税（10%）\n",
        "\n",
        "def calculate_price_with_tax(price, tax_rate):\n",
        "    tax_amount = price * tax_rate\n",
        "    total_price = price + tax_amount\n",
        "    return total_price\n",
        "\n",
        "total_price = calculate_price_with_tax(price, tax_rate)\n",
        "\n",
        "f\"消費税込みの価格は {total_price} 円です\"\n"
      ]
    }
  ]
}
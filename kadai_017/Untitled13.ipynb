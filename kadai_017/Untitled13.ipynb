{
  "nbformat": 4,
  "nbformat_minor": 0,
  "metadata": {
    "colab": {
      "provenance": []
    },
    "kernelspec": {
      "name": "python3",
      "display_name": "Python 3"
    },
    "language_info": {
      "name": "python"
    }
  },
  "cells": [
    {
      "cell_type": "code",
      "execution_count": 6,
      "metadata": {
        "colab": {
          "base_uri": "https://localhost:8080/"
        },
        "id": "eaS-mq3ETd6y",
        "outputId": "c7dfb0ee-272a-4547-be87-942002afad30"
      },
      "outputs": [
        {
          "output_type": "stream",
          "name": "stdout",
          "text": [
            "侍太郎さんは大人です\n",
            "侍花子さんは大人ではありません\n",
            "侍次郎さんは大人です\n",
            "侍三郎さんは大人ではありません\n"
          ]
        }
      ],
      "source": [
        "# Humanクラスの定義\n",
        "class Human:\n",
        "    def __init__(self, name, age):#属性の定義\n",
        "        self.name = name\n",
        "        self.age = age\n",
        "\n",
        "    def check_adult(self):#メソッドの定義\n",
        "        if self.age >= 20:\n",
        "            print(f\"{self.name}さんは大人です\")\n",
        "        else:\n",
        "            print(f\"{self.name}さんは大人ではありません\")\n",
        "\n",
        "# 複数の Human インスタンスを作成してリストに追加\n",
        "humans = [\n",
        "    Human(\"侍太郎\", 21),\n",
        "    Human(\"侍花子\", 18),\n",
        "    Human(\"侍次郎\", 30),\n",
        "    Human(\"侍三郎\", 5),\n",
        "]\n",
        "\n",
        "# リストの要素数分だけ check_adult メソッドを呼び出し\n",
        "for human in humans:\n",
        "    human.check_adult()"
      ]
    }
  ]
}
{
  "nbformat": 4,
  "nbformat_minor": 0,
  "metadata": {
    "colab": {
      "provenance": []
    },
    "kernelspec": {
      "name": "python3",
      "display_name": "Python 3"
    },
    "language_info": {
      "name": "python"
    }
  },
  "cells": [
    {
      "cell_type": "code",
      "execution_count": 3,
      "metadata": {
        "colab": {
          "base_uri": "https://localhost:8080/"
        },
        "id": "1qMCOw8Wc4T2",
        "outputId": "2206db04-9681-45a0-9249-f731c576be7e"
      },
      "outputs": [
        {
          "output_type": "stream",
          "name": "stdout",
          "text": [
            "水\n",
            "金\n",
            "地\n",
            "火\n",
            "木\n",
            "土\n",
            "天\n",
            "海\n",
            "冥\n"
          ]
        }
      ],
      "source": [
        "array = [\"水\",\"金\",\"地\",\"火\",\"木\",\"土\",\"天\",\"海\",\"冥\"]\n",
        "\n",
        "#count = 2 #2回実行するためのカウンタ\n",
        "\n",
        "# 外側のループ：繰り返し回数分だけ内側のループを実行\n",
        "#for _ in range(count):\n",
        "\n",
        "# 内側のループ：リストの要素を順に取り出して出力\n",
        "for i in array:\n",
        "   print(i)"
      ]
    },
    {
      "cell_type": "code",
      "source": [
        "array = [\"水\",\"金\",\"地\",\"火\",\"木\",\"土\",\"天\",\"海\",\"冥\"]\n",
        "\n",
        "i = 0\n",
        "\n",
        "# 配列の長さを取得\n",
        "length = len(array)\n",
        "\n",
        "# whileループで配列の要素を出力\n",
        "while i < length:\n",
        "    print(array[i])  # 現在のインデックスの要素を出力\n",
        "    i += 1  # カウンタをインクリメント"
      ],
      "metadata": {
        "colab": {
          "base_uri": "https://localhost:8080/"
        },
        "id": "6ViCJWDPjDjB",
        "outputId": "8dda7665-4943-4e36-e660-0146b9721822"
      },
      "execution_count": 7,
      "outputs": [
        {
          "output_type": "stream",
          "name": "stdout",
          "text": [
            "水\n",
            "金\n",
            "地\n",
            "火\n",
            "木\n",
            "土\n",
            "天\n",
            "海\n",
            "冥\n"
          ]
        }
      ]
    }
  ]
}
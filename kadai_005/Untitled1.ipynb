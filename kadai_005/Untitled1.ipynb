{
  "nbformat": 4,
  "nbformat_minor": 0,
  "metadata": {
    "colab": {
      "provenance": []
    },
    "kernelspec": {
      "name": "python3",
      "display_name": "Python 3"
    },
    "language_info": {
      "name": "python"
    }
  },
  "cells": [
    {
      "cell_type": "code",
      "execution_count": 1,
      "metadata": {
        "colab": {
          "base_uri": "https://localhost:8080/"
        },
        "id": "QrpeGsQ5ipHn",
        "outputId": "330bcdba-ad5f-4887-bdce-5c070725e3ee"
      },
      "outputs": [
        {
          "output_type": "stream",
          "name": "stdout",
          "text": [
            "75.0cm²\n"
          ]
        }
      ],
      "source": [
        "# 上底、下底、高さの値を変数に代入する\n",
        "upper_base = 10\n",
        "lower_base = 20\n",
        "height = 5\n",
        "\n",
        "# 台形の面積を計算する\n",
        "area = (upper_base + lower_base) * height / 2\n",
        "\n",
        "# 計算結果を出力する\n",
        "print(str(area) + \"cm²\")"
      ]
    }
  ]
}